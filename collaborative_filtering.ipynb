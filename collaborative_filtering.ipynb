{
 "cells": [
  {
   "cell_type": "code",
   "execution_count": 178,
   "metadata": {},
   "outputs": [],
   "source": [
    "# import required modules\n",
    "import random\n",
    "from tqdm.notebook import tqdm\n",
    "import pandas as pd\n",
    "import numpy as np\n",
    "import matplotlib.pyplot as plt\n",
    "from sklearn.model_selection import train_test_split\n",
    "from sklearn import model_selection, metrics, preprocessing\n",
    "import copy\n",
    "\n",
    "import torch\n",
    "from torch import nn, optim, Tensor\n",
    "\n",
    "from torch_sparse import SparseTensor, matmul\n",
    "\n",
    "from collections import defaultdict\n",
    "\n",
    "from torch_geometric.utils import structured_negative_sampling\n",
    "from torch_geometric.data import download_url, extract_zip\n",
    "from torch_geometric.nn.conv.gcn_conv import gcn_norm\n",
    "from torch_geometric.nn.conv import MessagePassing\n",
    "from torch_geometric.typing import Adj\n",
    "import torch.nn.functional as F"
   ]
  },
  {
   "cell_type": "code",
   "execution_count": 179,
   "metadata": {},
   "outputs": [],
   "source": [
    "from torch.utils.data import Dataset, DataLoader"
   ]
  },
  {
   "cell_type": "code",
   "execution_count": 180,
   "metadata": {},
   "outputs": [],
   "source": [
    "rating_df = pd.read_csv('ratings.csv')\n"
   ]
  },
  {
   "cell_type": "code",
   "execution_count": 181,
   "metadata": {},
   "outputs": [
    {
     "data": {
      "text/html": [
       "<div>\n",
       "<style scoped>\n",
       "    .dataframe tbody tr th:only-of-type {\n",
       "        vertical-align: middle;\n",
       "    }\n",
       "\n",
       "    .dataframe tbody tr th {\n",
       "        vertical-align: top;\n",
       "    }\n",
       "\n",
       "    .dataframe thead th {\n",
       "        text-align: right;\n",
       "    }\n",
       "</style>\n",
       "<table border=\"1\" class=\"dataframe\">\n",
       "  <thead>\n",
       "    <tr style=\"text-align: right;\">\n",
       "      <th></th>\n",
       "      <th>userId</th>\n",
       "      <th>movieId</th>\n",
       "      <th>rating</th>\n",
       "      <th>timestamp</th>\n",
       "    </tr>\n",
       "  </thead>\n",
       "  <tbody>\n",
       "    <tr>\n",
       "      <th>0</th>\n",
       "      <td>1</td>\n",
       "      <td>1</td>\n",
       "      <td>4.0</td>\n",
       "      <td>964982703</td>\n",
       "    </tr>\n",
       "    <tr>\n",
       "      <th>1</th>\n",
       "      <td>1</td>\n",
       "      <td>3</td>\n",
       "      <td>4.0</td>\n",
       "      <td>964981247</td>\n",
       "    </tr>\n",
       "    <tr>\n",
       "      <th>2</th>\n",
       "      <td>1</td>\n",
       "      <td>6</td>\n",
       "      <td>4.0</td>\n",
       "      <td>964982224</td>\n",
       "    </tr>\n",
       "    <tr>\n",
       "      <th>3</th>\n",
       "      <td>1</td>\n",
       "      <td>47</td>\n",
       "      <td>5.0</td>\n",
       "      <td>964983815</td>\n",
       "    </tr>\n",
       "    <tr>\n",
       "      <th>4</th>\n",
       "      <td>1</td>\n",
       "      <td>50</td>\n",
       "      <td>5.0</td>\n",
       "      <td>964982931</td>\n",
       "    </tr>\n",
       "  </tbody>\n",
       "</table>\n",
       "</div>"
      ],
      "text/plain": [
       "   userId  movieId  rating  timestamp\n",
       "0       1        1     4.0  964982703\n",
       "1       1        3     4.0  964981247\n",
       "2       1        6     4.0  964982224\n",
       "3       1       47     5.0  964983815\n",
       "4       1       50     5.0  964982931"
      ]
     },
     "execution_count": 181,
     "metadata": {},
     "output_type": "execute_result"
    }
   ],
   "source": [
    "rating_df.head()"
   ]
  },
  {
   "cell_type": "code",
   "execution_count": 182,
   "metadata": {},
   "outputs": [],
   "source": [
    "df=rating_df"
   ]
  },
  {
   "cell_type": "code",
   "execution_count": 183,
   "metadata": {},
   "outputs": [
    {
     "name": "stdout",
     "output_type": "stream",
     "text": [
      "movieId is from 0 to 9723\n",
      "userId is from 0 to 609\n"
     ]
    }
   ],
   "source": [
    "enc_movie = {movie_id: idx for idx, movie_id in enumerate(df[\"movieId\"].unique())}\n",
    "df[\"movieId\"] = [enc_movie[movie_id] for movie_id in df[\"movieId\"]]\n",
    "print(f\"movieId is from {df['movieId'].min()} to {df['movieId'].max()}\")\n",
    "\n",
    "enc_user = {user_id: idx for idx, user_id in enumerate(df[\"userId\"].unique())}\n",
    "df[\"userId\"] = [enc_user[user_id] for user_id in df[\"userId\"]]\n",
    "print(f\"userId is from {df['userId'].min()} to {df['userId'].max()}\")"
   ]
  },
  {
   "cell_type": "code",
   "execution_count": 184,
   "metadata": {},
   "outputs": [
    {
     "data": {
      "text/html": [
       "<div>\n",
       "<style scoped>\n",
       "    .dataframe tbody tr th:only-of-type {\n",
       "        vertical-align: middle;\n",
       "    }\n",
       "\n",
       "    .dataframe tbody tr th {\n",
       "        vertical-align: top;\n",
       "    }\n",
       "\n",
       "    .dataframe thead th {\n",
       "        text-align: right;\n",
       "    }\n",
       "</style>\n",
       "<table border=\"1\" class=\"dataframe\">\n",
       "  <thead>\n",
       "    <tr style=\"text-align: right;\">\n",
       "      <th></th>\n",
       "      <th>userId</th>\n",
       "      <th>movieId</th>\n",
       "      <th>rating</th>\n",
       "      <th>timestamp</th>\n",
       "    </tr>\n",
       "  </thead>\n",
       "  <tbody>\n",
       "    <tr>\n",
       "      <th>0</th>\n",
       "      <td>0</td>\n",
       "      <td>0</td>\n",
       "      <td>4.0</td>\n",
       "      <td>964982703</td>\n",
       "    </tr>\n",
       "    <tr>\n",
       "      <th>1</th>\n",
       "      <td>0</td>\n",
       "      <td>1</td>\n",
       "      <td>4.0</td>\n",
       "      <td>964981247</td>\n",
       "    </tr>\n",
       "    <tr>\n",
       "      <th>2</th>\n",
       "      <td>0</td>\n",
       "      <td>2</td>\n",
       "      <td>4.0</td>\n",
       "      <td>964982224</td>\n",
       "    </tr>\n",
       "    <tr>\n",
       "      <th>3</th>\n",
       "      <td>0</td>\n",
       "      <td>3</td>\n",
       "      <td>5.0</td>\n",
       "      <td>964983815</td>\n",
       "    </tr>\n",
       "    <tr>\n",
       "      <th>4</th>\n",
       "      <td>0</td>\n",
       "      <td>4</td>\n",
       "      <td>5.0</td>\n",
       "      <td>964982931</td>\n",
       "    </tr>\n",
       "    <tr>\n",
       "      <th>...</th>\n",
       "      <td>...</td>\n",
       "      <td>...</td>\n",
       "      <td>...</td>\n",
       "      <td>...</td>\n",
       "    </tr>\n",
       "    <tr>\n",
       "      <th>100831</th>\n",
       "      <td>609</td>\n",
       "      <td>3120</td>\n",
       "      <td>4.0</td>\n",
       "      <td>1493848402</td>\n",
       "    </tr>\n",
       "    <tr>\n",
       "      <th>100832</th>\n",
       "      <td>609</td>\n",
       "      <td>2035</td>\n",
       "      <td>5.0</td>\n",
       "      <td>1493850091</td>\n",
       "    </tr>\n",
       "    <tr>\n",
       "      <th>100833</th>\n",
       "      <td>609</td>\n",
       "      <td>3121</td>\n",
       "      <td>5.0</td>\n",
       "      <td>1494273047</td>\n",
       "    </tr>\n",
       "    <tr>\n",
       "      <th>100834</th>\n",
       "      <td>609</td>\n",
       "      <td>1392</td>\n",
       "      <td>5.0</td>\n",
       "      <td>1493846352</td>\n",
       "    </tr>\n",
       "    <tr>\n",
       "      <th>100835</th>\n",
       "      <td>609</td>\n",
       "      <td>2873</td>\n",
       "      <td>3.0</td>\n",
       "      <td>1493846415</td>\n",
       "    </tr>\n",
       "  </tbody>\n",
       "</table>\n",
       "<p>100836 rows × 4 columns</p>\n",
       "</div>"
      ],
      "text/plain": [
       "        userId  movieId  rating   timestamp\n",
       "0            0        0     4.0   964982703\n",
       "1            0        1     4.0   964981247\n",
       "2            0        2     4.0   964982224\n",
       "3            0        3     5.0   964983815\n",
       "4            0        4     5.0   964982931\n",
       "...        ...      ...     ...         ...\n",
       "100831     609     3120     4.0  1493848402\n",
       "100832     609     2035     5.0  1493850091\n",
       "100833     609     3121     5.0  1494273047\n",
       "100834     609     1392     5.0  1493846352\n",
       "100835     609     2873     3.0  1493846415\n",
       "\n",
       "[100836 rows x 4 columns]"
      ]
     },
     "execution_count": 184,
     "metadata": {},
     "output_type": "execute_result"
    }
   ],
   "source": [
    "df"
   ]
  },
  {
   "cell_type": "code",
   "execution_count": null,
   "metadata": {},
   "outputs": [],
   "source": []
  },
  {
   "cell_type": "code",
   "execution_count": 185,
   "metadata": {},
   "outputs": [],
   "source": [
    "# ttsplit\n",
    "train, test = train_test_split(rating_df, test_size=0.2, random_state=42)"
   ]
  },
  {
   "cell_type": "code",
   "execution_count": 186,
   "metadata": {},
   "outputs": [],
   "source": [
    "class MF(nn.Module):\n",
    "    def __init__(self, n_user, n_item, k=10):\n",
    "        super(MF, self).__init__()\n",
    "        self.user_emb = nn.Embedding(n_user, k)\n",
    "        self.item_emb = nn.Embedding(n_item, k)\n",
    "        self.user_emb.weight.data.uniform_(0, 0.05)\n",
    "        self.item_emb.weight.data.uniform_(0, 0.05)\n",
    "\n",
    "    def forward(self, user, item):\n",
    "        user_emb = self.user_emb(user)\n",
    "        item_emb = self.item_emb(item)\n",
    "        # cosine similarity from user and item embeddings\n",
    "        return (user_emb * item_emb).sum(1)\n"
   ]
  },
  {
   "cell_type": "code",
   "execution_count": 187,
   "metadata": {},
   "outputs": [
    {
     "name": "stdout",
     "output_type": "stream",
     "text": [
      "610 9724\n"
     ]
    }
   ],
   "source": [
    "num_users = rating_df['userId'].nunique()\n",
    "num_movies = rating_df['movieId'].nunique()\n",
    "print(num_users, num_movies)"
   ]
  },
  {
   "cell_type": "code",
   "execution_count": 188,
   "metadata": {},
   "outputs": [],
   "source": [
    "def train_epocs(model,epochs=30,lr=0.01,wd=0.0):\n",
    "    train_loss = []\n",
    "    test_loss = []\n",
    "    optimizer = torch.optim.Adam(model.parameters(), lr=lr, weight_decay=wd)\n",
    "    for i in range(epochs):\n",
    "        model.train()\n",
    "        users = Tensor(train['userId'].values).long()\n",
    "        movies = Tensor(train['movieId'].values).long()\n",
    "        ratings = Tensor(train['rating'].values)\n",
    "\n",
    "        y_hat = model.forward(users, movies)\n",
    "        loss = F.mse_loss(y_hat, ratings)\n",
    "        optimizer.zero_grad()\n",
    "        loss.backward()\n",
    "        optimizer.step()\n",
    "        testloss=valid_loss(model)\n",
    "        train_loss.append(loss.item())\n",
    "        test_loss.append(testloss)\n",
    "        print('train loss:',loss.item(),'test loss:',testloss)\n",
    "    plt.plot(train_loss)\n",
    "    plt.plot(test_loss)\n",
    "    plt.legend(['train_loss','test_loss'])\n",
    "    # label the axes\n",
    "    plt.xlabel('Epoch')\n",
    "    plt.ylabel('Loss')\n",
    "    plt.show()"
   ]
  },
  {
   "cell_type": "code",
   "execution_count": 189,
   "metadata": {},
   "outputs": [],
   "source": [
    "def valid_loss(model):\n",
    "    model.eval()\n",
    "    users = Tensor(test['userId'].values).long()\n",
    "    movies = Tensor(test['movieId'].values).long()\n",
    "    ratings = Tensor(test['rating'].values)\n",
    "    y_hat = model.forward(users, movies)\n",
    "    loss = F.mse_loss(y_hat, ratings)\n",
    "    # print('valid loss:',loss.item())\n",
    "    return loss.item()"
   ]
  },
  {
   "cell_type": "code",
   "execution_count": 190,
   "metadata": {},
   "outputs": [],
   "source": [
    "model=MF(num_users,num_movies,100)"
   ]
  },
  {
   "cell_type": "code",
   "execution_count": 191,
   "metadata": {},
   "outputs": [
    {
     "name": "stdout",
     "output_type": "stream",
     "text": [
      "train loss: 12.916452407836914 test loss: 12.714374542236328\n",
      "train loss: 12.727855682373047 test loss: 12.499724388122559\n",
      "train loss: 12.506821632385254 test loss: 12.25468635559082\n",
      "train loss: 12.253950119018555 test loss: 11.979826927185059\n",
      "train loss: 11.969842910766602 test loss: 11.675771713256836\n",
      "train loss: 11.655169486999512 test loss: 11.343262672424316\n",
      "train loss: 11.310713768005371 test loss: 10.983200073242188\n",
      "train loss: 10.937419891357422 test loss: 10.5966796875\n",
      "train loss: 10.5364408493042 test loss: 10.185037612915039\n"
     ]
    },
    {
     "name": "stdout",
     "output_type": "stream",
     "text": [
      "train loss: 10.109169960021973 test loss: 9.749884605407715\n",
      "train loss: 9.6572847366333 test loss: 9.29313850402832\n",
      "train loss: 9.182778358459473 test loss: 8.817052841186523\n",
      "train loss: 8.68798542022705 test loss: 8.32424545288086\n",
      "train loss: 8.175610542297363 test loss: 7.817707061767578\n",
      "train loss: 7.6487555503845215 test loss: 7.3008246421813965\n",
      "train loss: 7.110934734344482 test loss: 6.777393341064453\n",
      "train loss: 6.5660810470581055 test loss: 6.2516188621521\n",
      "train loss: 6.0185441970825195 test loss: 5.728098392486572\n",
      "train loss: 5.473073482513428 test loss: 5.211789131164551\n",
      "train loss: 4.934784889221191 test loss: 4.707958221435547\n",
      "train loss: 4.409111499786377 test loss: 4.222100257873535\n",
      "train loss: 3.9017186164855957 test loss: 3.759836196899414\n",
      "train loss: 3.4183907508850098 test loss: 3.3267621994018555\n",
      "train loss: 2.9648776054382324 test loss: 2.9282634258270264\n",
      "train loss: 2.546698570251465 test loss: 2.569274663925171\n",
      "train loss: 2.168900728225708 test loss: 2.25400972366333\n",
      "train loss: 1.8357797861099243 test loss: 1.9856557846069336\n",
      "train loss: 1.5505768060684204 test loss: 1.766068696975708\n",
      "train loss: 1.31516695022583 test loss: 1.5954984426498413\n",
      "train loss: 1.1297889947891235 test loss: 1.4723936319351196\n",
      "train loss: 0.992846667766571 test loss: 1.3933271169662476\n",
      "train loss: 0.9008376002311707 test loss: 1.3530833721160889\n",
      "train loss: 0.8484439849853516 test loss: 1.3449270725250244\n",
      "train loss: 0.8288116455078125 test loss: 1.3610546588897705\n",
      "train loss: 0.8340095281600952 test loss: 1.3931858539581299\n",
      "train loss: 0.8556350469589233 test loss: 1.4332263469696045\n",
      "train loss: 0.8854868412017822 test loss: 1.4739092588424683\n",
      "train loss: 0.9162185192108154 test loss: 1.5093246698379517\n",
      "train loss: 0.941875159740448 test loss: 1.5352632999420166\n",
      "train loss: 0.9582414627075195 test loss: 1.5493407249450684\n",
      "train loss: 0.9629676938056946 test loss: 1.5509076118469238\n",
      "train loss: 0.9554764628410339 test loss: 1.5407884120941162\n",
      "train loss: 0.9366918206214905 test loss: 1.5209059715270996\n",
      "train loss: 0.9086543321609497 test loss: 1.493860125541687\n",
      "train loss: 0.8740867376327515 test loss: 1.4625197649002075\n",
      "train loss: 0.835972249507904 test loss: 1.4296720027923584\n",
      "train loss: 0.7971938252449036 test loss: 1.3977543115615845\n",
      "train loss: 0.7602574229240417 test loss: 1.3686827421188354\n",
      "train loss: 0.7271138429641724 test loss: 1.343768835067749\n",
      "train loss: 0.6990753412246704 test loss: 1.3237178325653076\n",
      "train loss: 0.6768131852149963 test loss: 1.3086849451065063\n",
      "train loss: 0.6604181528091431 test loss: 1.298372507095337\n",
      "train loss: 0.6495040059089661 test loss: 1.292148232460022\n",
      "train loss: 0.6433336734771729 test loss: 1.289169430732727\n",
      "train loss: 0.6409496068954468 test loss: 1.2884995937347412\n",
      "train loss: 0.6412978172302246 test loss: 1.2892075777053833\n",
      "train loss: 0.6433339715003967 test loss: 1.290447473526001\n",
      "train loss: 0.6461079716682434 test loss: 1.29151451587677\n",
      "train loss: 0.6488228440284729 test loss: 1.2918779850006104\n",
      "train loss: 0.6508703231811523 test loss: 1.2911944389343262\n",
      "train loss: 0.6518446803092957 test loss: 1.2893024682998657\n",
      "train loss: 0.6515375971794128 test loss: 1.2862056493759155\n",
      "train loss: 0.6499181389808655 test loss: 1.2820420265197754\n",
      "train loss: 0.647102952003479 test loss: 1.277051329612732\n",
      "train loss: 0.6433191299438477 test loss: 1.2715359926223755\n",
      "train loss: 0.6388642191886902 test loss: 1.2658244371414185\n",
      "train loss: 0.6340672969818115 test loss: 1.2602378129959106\n",
      "train loss: 0.6292524933815002 test loss: 1.255059838294983\n",
      "train loss: 0.6247092485427856 test loss: 1.2505155801773071\n",
      "train loss: 0.6206691861152649 test loss: 1.246757984161377\n",
      "train loss: 0.6172918081283569 test loss: 1.243862271308899\n",
      "train loss: 0.6146588325500488 test loss: 1.241828441619873\n",
      "train loss: 0.6127768158912659 test loss: 1.240590214729309\n",
      "train loss: 0.6115871667861938 test loss: 1.2400307655334473\n",
      "train loss: 0.6109806299209595 test loss: 1.2399991750717163\n",
      "train loss: 0.6108154058456421 test loss: 1.2403302192687988\n",
      "train loss: 0.6109364628791809 test loss: 1.2408617734909058\n",
      "train loss: 0.6111928820610046 test loss: 1.2414488792419434\n",
      "train loss: 0.611452579498291 test loss: 1.2419761419296265\n",
      "train loss: 0.6116127967834473 test loss: 1.242362380027771\n",
      "train loss: 0.6116060018539429 test loss: 1.2425624132156372\n",
      "train loss: 0.611400306224823 test loss: 1.2425649166107178\n",
      "train loss: 0.6109967827796936 test loss: 1.2423864603042603\n",
      "train loss: 0.6104229688644409 test loss: 1.2420634031295776\n",
      "train loss: 0.6097246408462524 test loss: 1.2416430711746216\n",
      "train loss: 0.608957052230835 test loss: 1.2411762475967407\n",
      "train loss: 0.608176589012146 test loss: 1.2407100200653076\n",
      "train loss: 0.6074336767196655 test loss: 1.2402825355529785\n",
      "train loss: 0.6067678928375244 test loss: 1.2399193048477173\n",
      "train loss: 0.6062049865722656 test loss: 1.2396334409713745\n",
      "train loss: 0.6057561039924622 test loss: 1.2394253015518188\n",
      "train loss: 0.6054190397262573 test loss: 1.2392854690551758\n",
      "train loss: 0.6051805019378662 test loss: 1.2391972541809082\n",
      "train loss: 0.6050193309783936 test loss: 1.2391403913497925\n",
      "train loss: 0.6049104928970337 test loss: 1.2390938997268677\n",
      "train loss: 0.6048282384872437 test loss: 1.2390393018722534\n",
      "train loss: 0.6047491431236267 test loss: 1.238963007926941\n",
      "train loss: 0.6046544313430786 test loss: 1.2388560771942139\n",
      "train loss: 0.604530930519104 test loss: 1.2387163639068604\n",
      "train loss: 0.6043718457221985 test loss: 1.2385468482971191\n"
     ]
    },
    {
     "data": {
      "image/png": "[encoded data removed]",
      "text/plain": [
       "<Figure size 640x480 with 1 Axes>"
      ]
     },
     "metadata": {},
     "output_type": "display_data"
    }
   ],
   "source": [
    "train_epocs(model,epochs=100,lr=0.005,wd=1e-7)"
   ]
  },
  {
   "cell_type": "code",
   "execution_count": 192,
   "metadata": {},
   "outputs": [
    {
     "data": {
      "text/plain": [
       "tensor([4.5969, 3.7608, 4.7336,  ..., 3.3550, 3.9494, 3.9544],\n",
       "       grad_fn=<SumBackward1>)"
      ]
     },
     "execution_count": 192,
     "metadata": {},
     "output_type": "execute_result"
    }
   ],
   "source": [
    "# pridicting for a single user\n",
    "user=Tensor([0]).long()\n",
    "movies=Tensor(range(num_movies)).long()\n",
    "y_hat=model.forward(user,movies)\n",
    "y_hat\n"
   ]
  },
  {
   "cell_type": "code",
   "execution_count": 193,
   "metadata": {},
   "outputs": [
    {
     "data": {
      "text/plain": [
       "9724"
      ]
     },
     "execution_count": 193,
     "metadata": {},
     "output_type": "execute_result"
    }
   ],
   "source": [
    "len(y_hat)"
   ]
  },
  {
   "cell_type": "code",
   "execution_count": 194,
   "metadata": {},
   "outputs": [
    {
     "data": {
      "text/plain": [
       "torch.return_types.topk(\n",
       "values=tensor([8.8704, 8.8661, 8.8621, 8.8487, 8.1892, 8.1889, 8.1641, 7.9916, 7.4529,\n",
       "        7.3875], grad_fn=<TopkBackward0>),\n",
       "indices=tensor([ 281,  280,  285, 6542,  288,  282, 8872, 5031, 6951, 8672]))"
      ]
     },
     "execution_count": 194,
     "metadata": {},
     "output_type": "execute_result"
    }
   ],
   "source": [
    "# top 10 movies for user 0\n",
    "top10=torch.topk(y_hat,10)\n",
    "top10"
   ]
  }
 ],
 "metadata": {
  "kernelspec": {
   "display_name": "Python 3",
   "language": "python",
   "name": "python3"
  },
  "language_info": {
   "codemirror_mode": {
    "name": "ipython",
    "version": 3
   },
   "file_extension": ".py",
   "mimetype": "text/x-python",
   "name": "python",
   "nbconvert_exporter": "python",
   "pygments_lexer": "ipython3",
   "version": "3.11.2"
  }
 },
 "nbformat": 4,
 "nbformat_minor": 2
}
