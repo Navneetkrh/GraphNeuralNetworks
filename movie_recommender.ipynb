{
 "cells": [
  {
   "cell_type": "code",
   "execution_count": 2,
   "metadata": {},
   "outputs": [
    {
     "name": "stderr",
     "output_type": "stream",
     "text": [
      "C:\\Users\\Navneetkrh\\AppData\\Roaming\\Python\\Python311\\site-packages\\tqdm\\auto.py:21: TqdmWarning: IProgress not found. Please update jupyter and ipywidgets. See https://ipywidgets.readthedocs.io/en/stable/user_install.html\n",
      "  from .autonotebook import tqdm as notebook_tqdm\n"
     ]
    }
   ],
   "source": [
    "import pandas as pd\n",
    "import numpy as np\n",
    "import matplotlib.pyplot as plt\n",
    "import seaborn as sns\n",
    "import tensorflow_datasets as tfds\n"
   ]
  },
  {
   "cell_type": "code",
   "execution_count": 3,
   "metadata": {},
   "outputs": [],
   "source": [
    "# movieleens dataset from tensorflow_datasets\n",
    "ratings = tfds.load('movielens/100k-ratings', split='train')\n",
    "movies = tfds.load('movielens/100k-movies', split='train')\n",
    "\n",
    "\n"
   ]
  },
  {
   "cell_type": "code",
   "execution_count": 6,
   "metadata": {},
   "outputs": [],
   "source": [
    "pd_movies=pd.DataFrame(movies)\n",
    "pd_ratings=pd.DataFrame(ratings)\n"
   ]
  },
  {
   "cell_type": "code",
   "execution_count": 7,
   "metadata": {},
   "outputs": [
    {
     "data": {
      "text/html": [
       "<div>\n",
       "<style scoped>\n",
       "    .dataframe tbody tr th:only-of-type {\n",
       "        vertical-align: middle;\n",
       "    }\n",
       "\n",
       "    .dataframe tbody tr th {\n",
       "        vertical-align: top;\n",
       "    }\n",
       "\n",
       "    .dataframe thead th {\n",
       "        text-align: right;\n",
       "    }\n",
       "</style>\n",
       "<table border=\"1\" class=\"dataframe\">\n",
       "  <thead>\n",
       "    <tr style=\"text-align: right;\">\n",
       "      <th></th>\n",
       "      <th>movie_genres</th>\n",
       "      <th>movie_id</th>\n",
       "      <th>movie_title</th>\n",
       "    </tr>\n",
       "  </thead>\n",
       "  <tbody>\n",
       "    <tr>\n",
       "      <th>0</th>\n",
       "      <td>(tf.Tensor(4, shape=(), dtype=int64))</td>\n",
       "      <td>tf.Tensor(b'1681', shape=(), dtype=string)</td>\n",
       "      <td>tf.Tensor(b'You So Crazy (1994)', shape=(), dt...</td>\n",
       "    </tr>\n",
       "    <tr>\n",
       "      <th>1</th>\n",
       "      <td>(tf.Tensor(4, shape=(), dtype=int64), tf.Tenso...</td>\n",
       "      <td>tf.Tensor(b'1457', shape=(), dtype=string)</td>\n",
       "      <td>tf.Tensor(b'Love Is All There Is (1996)', shap...</td>\n",
       "    </tr>\n",
       "    <tr>\n",
       "      <th>2</th>\n",
       "      <td>(tf.Tensor(1, shape=(), dtype=int64), tf.Tenso...</td>\n",
       "      <td>tf.Tensor(b'500', shape=(), dtype=string)</td>\n",
       "      <td>tf.Tensor(b'Fly Away Home (1996)', shape=(), d...</td>\n",
       "    </tr>\n",
       "    <tr>\n",
       "      <th>3</th>\n",
       "      <td>(tf.Tensor(0, shape=(), dtype=int64))</td>\n",
       "      <td>tf.Tensor(b'838', shape=(), dtype=string)</td>\n",
       "      <td>tf.Tensor(b'In the Line of Duty 2 (1987)', sha...</td>\n",
       "    </tr>\n",
       "    <tr>\n",
       "      <th>4</th>\n",
       "      <td>(tf.Tensor(7, shape=(), dtype=int64))</td>\n",
       "      <td>tf.Tensor(b'1648', shape=(), dtype=string)</td>\n",
       "      <td>tf.Tensor(b'Niagara, Niagara (1997)', shape=()...</td>\n",
       "    </tr>\n",
       "  </tbody>\n",
       "</table>\n",
       "</div>"
      ],
      "text/plain": [
       "                                        movie_genres  \\\n",
       "0              (tf.Tensor(4, shape=(), dtype=int64))   \n",
       "1  (tf.Tensor(4, shape=(), dtype=int64), tf.Tenso...   \n",
       "2  (tf.Tensor(1, shape=(), dtype=int64), tf.Tenso...   \n",
       "3              (tf.Tensor(0, shape=(), dtype=int64))   \n",
       "4              (tf.Tensor(7, shape=(), dtype=int64))   \n",
       "\n",
       "                                     movie_id  \\\n",
       "0  tf.Tensor(b'1681', shape=(), dtype=string)   \n",
       "1  tf.Tensor(b'1457', shape=(), dtype=string)   \n",
       "2   tf.Tensor(b'500', shape=(), dtype=string)   \n",
       "3   tf.Tensor(b'838', shape=(), dtype=string)   \n",
       "4  tf.Tensor(b'1648', shape=(), dtype=string)   \n",
       "\n",
       "                                         movie_title  \n",
       "0  tf.Tensor(b'You So Crazy (1994)', shape=(), dt...  \n",
       "1  tf.Tensor(b'Love Is All There Is (1996)', shap...  \n",
       "2  tf.Tensor(b'Fly Away Home (1996)', shape=(), d...  \n",
       "3  tf.Tensor(b'In the Line of Duty 2 (1987)', sha...  \n",
       "4  tf.Tensor(b'Niagara, Niagara (1997)', shape=()...  "
      ]
     },
     "execution_count": 7,
     "metadata": {},
     "output_type": "execute_result"
    }
   ],
   "source": [
    "pd_movies.head()"
   ]
  },
  {
   "cell_type": "code",
   "execution_count": null,
   "metadata": {},
   "outputs": [],
   "source": []
  }
 ],
 "metadata": {
  "kernelspec": {
   "display_name": "Python 3",
   "language": "python",
   "name": "python3"
  },
  "language_info": {
   "codemirror_mode": {
    "name": "ipython",
    "version": 3
   },
   "file_extension": ".py",
   "mimetype": "text/x-python",
   "name": "python",
   "nbconvert_exporter": "python",
   "pygments_lexer": "ipython3",
   "version": "3.11.2"
  }
 },
 "nbformat": 4,
 "nbformat_minor": 2
}
