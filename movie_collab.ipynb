{
 "cells": [
  {
   "cell_type": "code",
   "execution_count": 1,
   "metadata": {},
   "outputs": [],
   "source": [
    "# import required modules\n",
    "import random\n",
    "from tqdm.notebook import tqdm\n",
    "import pandas as pd\n",
    "import numpy as np\n",
    "import matplotlib.pyplot as plt\n",
    "from sklearn.model_selection import train_test_split\n",
    "from sklearn import model_selection, metrics, preprocessing\n",
    "import copy\n",
    "\n",
    "import torch\n",
    "from torch import nn, optim, Tensor\n",
    "\n",
    "from torch_sparse import SparseTensor, matmul\n",
    "\n",
    "from collections import defaultdict\n",
    "\n",
    "from torch_geometric.utils import structured_negative_sampling\n",
    "from torch_geometric.data import download_url, extract_zip\n",
    "from torch_geometric.nn.conv.gcn_conv import gcn_norm\n",
    "from torch_geometric.nn.conv import MessagePassing\n",
    "from torch_geometric.typing import Adj\n",
    "import torch.nn.functional as F"
   ]
  },
  {
   "cell_type": "code",
   "execution_count": 6,
   "metadata": {},
   "outputs": [
    {
     "name": "stdout",
     "output_type": "stream",
     "text": [
      "rating is from 0.0 to 1.0\n",
      "movieId is from 0 to 9723\n",
      "userId is from 0 to 609\n"
     ]
    }
   ],
   "source": [
    "from torch.utils.data import Dataset, DataLoader\n",
    "    # DATA: wget https://files.grouplens.org/datasets/movielens/ml-latest-small.zip\n",
    "    # NOTE: The whole data pipeline can be automated (e.g., use requests)\n",
    "df = pd.read_csv(\"ml-latest-small/ratings.csv\")\n",
    "df.drop(\"timestamp\", axis=1, inplace=True)\n",
    "\n",
    "# Normalize ratings\n",
    "rating, min_rating, max_rating = df[\"rating\"], df[\"rating\"].min(), df[\"rating\"].max()\n",
    "df[\"rating\"] = (rating - min_rating) / (max_rating - min_rating)\n",
    "print(f\"rating is from {df['rating'].min()} to {df['rating'].max()}\")\n",
    "\n",
    "# Do not recommend if the rating is less than 0.5\n",
    "cond = df[\"rating\"] < 0.5\n",
    "df[\"rating\"].where(cond, 0, inplace=True)\n",
    "df[\"rating\"].where(~cond, 1, inplace=True)\n",
    "\n",
    "enc_movie = {movie_id: idx for idx, movie_id in enumerate(df[\"movieId\"].unique())}\n",
    "df[\"movieId\"] = [enc_movie[movie_id] for movie_id in df[\"movieId\"]]\n",
    "print(f\"movieId is from {df['movieId'].min()} to {df['movieId'].max()}\")\n",
    "\n",
    "enc_user = {user_id: idx for idx, user_id in enumerate(df[\"userId\"].unique())}\n",
    "df[\"userId\"] = [enc_user[user_id] for user_id in df[\"userId\"]]\n",
    "print(f\"userId is from {df['userId'].min()} to {df['userId'].max()}\")\n",
    "\n",
    "# PyTorch dataset\n",
    "class MovieLensSmall(Dataset):\n",
    "    def __init__(self, df):\n",
    "        self.df = df\n",
    "    def __len__(self) :\n",
    "        return len(self.df)\n",
    "    def __getitem__(self, idx):\n",
    "        return list(df.iloc[idx])\n",
    "\n",
    "train_dataloader = torch.utils.data.DataLoader(MovieLensSmall(df),batch_size=4,shuffle=True,num_workers=8)"
   ]
  },
  {
   "cell_type": "code",
   "execution_count": null,
   "metadata": {},
   "outputs": [],
   "source": [
    "class MFModel(nn.Module):\n",
    "    def __init__(self,num_users:int,num_items:int,embedding_dim:int):\n",
    "        self.user_embedding = nn.Embedding(num_users,embedding_dim)\n",
    "        self.item_embedding = nn.Embedding(num_items,embedding_dim)\n",
    "        self.user_embedding.weight.data.uniform_(0,0.05)\n",
    "        self.item_embedding.weight.data.uniform_(0,0.05)\n",
    "    def forward(self,user_indices,item_indices):\n",
    "        user_embeddings = self.user_embedding(user_indices)\n",
    "        item_embeddings = self.item_embedding(item_indices)\n",
    "        out=(user_embeddings*item_embeddings).sum(dim=1)\n",
    "        return out\n",
    "        \n",
    "        \n",
    "        \n",
    "    \n"
   ]
  }
 ],
 "metadata": {
  "kernelspec": {
   "display_name": "Python 3",
   "language": "python",
   "name": "python3"
  },
  "language_info": {
   "codemirror_mode": {
    "name": "ipython",
    "version": 3
   },
   "file_extension": ".py",
   "mimetype": "text/x-python",
   "name": "python",
   "nbconvert_exporter": "python",
   "pygments_lexer": "ipython3",
   "version": "3.11.2"
  }
 },
 "nbformat": 4,
 "nbformat_minor": 2
}
